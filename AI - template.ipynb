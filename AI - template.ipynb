{
 "cells": [
  {
   "cell_type": "markdown",
   "metadata": {},
   "source": [
    "# Sprawdzanie dokładności modelu\n",
    "Plik test_data.csv jest dostępny tylko dla jury. Zawiera dane testowe - jednakowe dla wszystkich drużyn. Jest w takim samym formacie co zbiór, który otrzymaliście wraz z zadaniem, tylko już z czystymi danymi."
   ]
  },
  {
   "cell_type": "code",
   "execution_count": 1,
   "metadata": {},
   "outputs": [
    {
     "name": "stdout",
     "output_type": "stream",
     "text": [
      "Requirement already satisfied: CatBoost~=0.25.1 in c:\\users\\pawli\\pycharmprojects\\hackathonbhl\\venv\\lib\\site-packages (from -r requirements.txt (line 1)) (0.25.1)\n",
      "Requirement already satisfied: scikit-learn~=0.24.1 in c:\\users\\pawli\\pycharmprojects\\hackathonbhl\\venv\\lib\\site-packages (from -r requirements.txt (line 2)) (0.24.1)\n",
      "Requirement already satisfied: pandas~=1.2.3 in c:\\users\\pawli\\pycharmprojects\\hackathonbhl\\venv\\lib\\site-packages (from -r requirements.txt (line 3)) (1.2.3)\n",
      "Requirement already satisfied: matplotlib in c:\\users\\pawli\\pycharmprojects\\hackathonbhl\\venv\\lib\\site-packages (from CatBoost~=0.25.1->-r requirements.txt (line 1)) (3.4.1)\n",
      "Requirement already satisfied: graphviz in c:\\users\\pawli\\pycharmprojects\\hackathonbhl\\venv\\lib\\site-packages (from CatBoost~=0.25.1->-r requirements.txt (line 1)) (0.16)\n",
      "Requirement already satisfied: numpy>=1.16.0 in c:\\users\\pawli\\pycharmprojects\\hackathonbhl\\venv\\lib\\site-packages (from CatBoost~=0.25.1->-r requirements.txt (line 1)) (1.20.2)\n",
      "Requirement already satisfied: scipy in c:\\users\\pawli\\pycharmprojects\\hackathonbhl\\venv\\lib\\site-packages (from CatBoost~=0.25.1->-r requirements.txt (line 1)) (1.6.2)\n",
      "Requirement already satisfied: six in c:\\users\\pawli\\pycharmprojects\\hackathonbhl\\venv\\lib\\site-packages (from CatBoost~=0.25.1->-r requirements.txt (line 1)) (1.15.0)\n",
      "Requirement already satisfied: plotly in c:\\users\\pawli\\pycharmprojects\\hackathonbhl\\venv\\lib\\site-packages (from CatBoost~=0.25.1->-r requirements.txt (line 1)) (4.14.3)\n",
      "Requirement already satisfied: python-dateutil>=2.7.3 in c:\\users\\pawli\\pycharmprojects\\hackathonbhl\\venv\\lib\\site-packages (from pandas~=1.2.3->-r requirements.txt (line 3)) (2.8.1)\n",
      "Requirement already satisfied: pytz>=2017.3 in c:\\users\\pawli\\pycharmprojects\\hackathonbhl\\venv\\lib\\site-packages (from pandas~=1.2.3->-r requirements.txt (line 3)) (2021.1)\n",
      "Requirement already satisfied: threadpoolctl>=2.0.0 in c:\\users\\pawli\\pycharmprojects\\hackathonbhl\\venv\\lib\\site-packages (from scikit-learn~=0.24.1->-r requirements.txt (line 2)) (2.1.0)\n",
      "Requirement already satisfied: joblib>=0.11 in c:\\users\\pawli\\pycharmprojects\\hackathonbhl\\venv\\lib\\site-packages (from scikit-learn~=0.24.1->-r requirements.txt (line 2)) (1.0.1)\n",
      "Requirement already satisfied: pyparsing>=2.2.1 in c:\\users\\pawli\\pycharmprojects\\hackathonbhl\\venv\\lib\\site-packages (from matplotlib->CatBoost~=0.25.1->-r requirements.txt (line 1)) (2.4.7)\n",
      "Requirement already satisfied: cycler>=0.10 in c:\\users\\pawli\\pycharmprojects\\hackathonbhl\\venv\\lib\\site-packages (from matplotlib->CatBoost~=0.25.1->-r requirements.txt (line 1)) (0.10.0)\n",
      "Requirement already satisfied: kiwisolver>=1.0.1 in c:\\users\\pawli\\pycharmprojects\\hackathonbhl\\venv\\lib\\site-packages (from matplotlib->CatBoost~=0.25.1->-r requirements.txt (line 1)) (1.3.1)\n",
      "Requirement already satisfied: pillow>=6.2.0 in c:\\users\\pawli\\pycharmprojects\\hackathonbhl\\venv\\lib\\site-packages (from matplotlib->CatBoost~=0.25.1->-r requirements.txt (line 1)) (8.2.0)\n",
      "Requirement already satisfied: retrying>=1.3.3 in c:\\users\\pawli\\pycharmprojects\\hackathonbhl\\venv\\lib\\site-packages (from plotly->CatBoost~=0.25.1->-r requirements.txt (line 1)) (1.3.3)\n"
     ]
    }
   ],
   "source": [
    "!pip install -r requirements.txt\n",
    "import pandas as pd\n",
    "import numpy as np"
   ]
  },
  {
   "cell_type": "code",
   "execution_count": 2,
   "metadata": {},
   "outputs": [],
   "source": [
    "test_data = pd.read_csv(\"test_data.csv\")"
   ]
  },
  {
   "cell_type": "markdown",
   "metadata": {},
   "source": [
    "### Miejsce na twój kod:"
   ]
  },
  {
   "cell_type": "code",
   "execution_count": 11,
   "metadata": {},
   "outputs": [],
   "source": [
    "from catboost import CatBoostClassifier, Pool\n",
    "\n",
    "important_features_full = list(pd.read_csv(\"./sorted_by_importance.csv\", index_col=0)[\"0\"])\n",
    "important_features = important_features_full[:249]\n",
    "\n",
    "test_df_r = test_data[['Activity'] + important_features]\n",
    "\n",
    "test_X = test_df_r.drop('Activity', axis='columns').values\n",
    "test_y = test_df_r['Activity'].values\n",
    "\n",
    "model = CatBoostClassifier(\n",
    "    learning_rate=0.20281366269439707,\n",
    "    l2_leaf_reg=1,\n",
    "    depth=7,\n",
    "    random_strength=0.6907090863574054,\n",
    "    bagging_temperature=0.38532733636500577,\n",
    "    loss_function='MultiClass',\n",
    "    eval_metric='Accuracy',\n",
    "    random_seed=2501\n",
    ")\n",
    "\n",
    "model.load_model('model_weights')\n",
    "predicted = model.predict(Pool(test_X, test_y)).squeeze()\n"
   ]
  },
  {
   "cell_type": "markdown",
   "metadata": {},
   "source": [
    "### Sprawdzanie dokładności:\n",
    "Predicted - zmienna przechowująca przewidzianą aktywność. Poniższa linijka powinna zwrócić wartość 0-1."
   ]
  },
  {
   "cell_type": "code",
   "execution_count": 12,
   "metadata": {},
   "outputs": [
    {
     "data": {
      "text/plain": "0.9863792170304889"
     },
     "execution_count": 12,
     "metadata": {},
     "output_type": "execute_result"
    }
   ],
   "source": [
    "np.mean(predicted == test_data.Activity)"
   ]
  },
  {
   "cell_type": "code",
   "execution_count": null,
   "outputs": [],
   "source": [],
   "metadata": {
    "collapsed": false,
    "pycharm": {
     "name": "#%%\n"
    }
   }
  }
 ],
 "metadata": {
  "kernelspec": {
   "display_name": "Python 3",
   "language": "python",
   "name": "python3"
  },
  "language_info": {
   "codemirror_mode": {
    "name": "ipython",
    "version": 3
   },
   "file_extension": ".py",
   "mimetype": "text/x-python",
   "name": "python",
   "nbconvert_exporter": "python",
   "pygments_lexer": "ipython3",
   "version": "3.8.5"
  }
 },
 "nbformat": 4,
 "nbformat_minor": 4
}