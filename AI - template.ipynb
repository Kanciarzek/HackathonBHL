{
 "cells": [
  {
   "cell_type": "markdown",
   "metadata": {},
   "source": [
    "# Sprawdzanie dokładności modelu\n",
    "Plik test_data.csv jest dostępny tylko dla jury. Zawiera dane testowe - jednakowe dla wszystkich drużyn. Jest w takim samym formacie co zbiór, który otrzymaliście wraz z zadaniem, tylko już z czystymi danymi."
   ]
  },
  {
   "cell_type": "code",
   "execution_count": 6,
   "metadata": {},
   "outputs": [],
   "source": [
    "import pandas as pd\n",
    "import numpy as np"
   ]
  },
  {
   "cell_type": "code",
   "execution_count": 7,
   "metadata": {},
   "outputs": [],
   "source": [
    "test_data = pd.read_csv(\"test_data.csv\")"
   ]
  },
  {
   "cell_type": "markdown",
   "metadata": {},
   "source": [
    "### Miejsce na twój kod:"
   ]
  },
  {
   "cell_type": "code",
   "execution_count": 10,
   "metadata": {},
   "outputs": [
    {
     "name": "stdout",
     "output_type": "stream",
     "text": [
      "Requirement already satisfied: catboost in c:\\users\\pawli\\pycharmprojects\\hackathonbhl\\venv\\lib\\site-packages (0.25.1)\n",
      "Requirement already satisfied: pandas>=0.24.0 in c:\\users\\pawli\\pycharmprojects\\hackathonbhl\\venv\\lib\\site-packages (from catboost) (1.2.3)\n",
      "Requirement already satisfied: matplotlib in c:\\users\\pawli\\pycharmprojects\\hackathonbhl\\venv\\lib\\site-packages (from catboost) (3.4.1)\n",
      "Requirement already satisfied: six in c:\\users\\pawli\\pycharmprojects\\hackathonbhl\\venv\\lib\\site-packages (from catboost) (1.15.0)\n",
      "Requirement already satisfied: scipy in c:\\users\\pawli\\pycharmprojects\\hackathonbhl\\venv\\lib\\site-packages (from catboost) (1.6.2)\n",
      "Requirement already satisfied: plotly in c:\\users\\pawli\\pycharmprojects\\hackathonbhl\\venv\\lib\\site-packages (from catboost) (4.14.3)\n",
      "Requirement already satisfied: graphviz in c:\\users\\pawli\\pycharmprojects\\hackathonbhl\\venv\\lib\\site-packages (from catboost) (0.16)\n",
      "Requirement already satisfied: numpy>=1.16.0 in c:\\users\\pawli\\pycharmprojects\\hackathonbhl\\venv\\lib\\site-packages (from catboost) (1.20.2)\n",
      "Requirement already satisfied: python-dateutil>=2.7.3 in c:\\users\\pawli\\pycharmprojects\\hackathonbhl\\venv\\lib\\site-packages (from pandas>=0.24.0->catboost) (2.8.1)\n",
      "Requirement already satisfied: pytz>=2017.3 in c:\\users\\pawli\\pycharmprojects\\hackathonbhl\\venv\\lib\\site-packages (from pandas>=0.24.0->catboost) (2021.1)\n",
      "Requirement already satisfied: cycler>=0.10 in c:\\users\\pawli\\pycharmprojects\\hackathonbhl\\venv\\lib\\site-packages (from matplotlib->catboost) (0.10.0)\n",
      "Requirement already satisfied: kiwisolver>=1.0.1 in c:\\users\\pawli\\pycharmprojects\\hackathonbhl\\venv\\lib\\site-packages (from matplotlib->catboost) (1.3.1)\n",
      "Requirement already satisfied: pillow>=6.2.0 in c:\\users\\pawli\\pycharmprojects\\hackathonbhl\\venv\\lib\\site-packages (from matplotlib->catboost) (8.2.0)\n",
      "Requirement already satisfied: pyparsing>=2.2.1 in c:\\users\\pawli\\pycharmprojects\\hackathonbhl\\venv\\lib\\site-packages (from matplotlib->catboost) (2.4.7)\n",
      "Requirement already satisfied: retrying>=1.3.3 in c:\\users\\pawli\\pycharmprojects\\hackathonbhl\\venv\\lib\\site-packages (from plotly->catboost) (1.3.3)\n"
     ]
    }
   ],
   "source": [
    "!pip install catboost\n",
    "\n",
    "from catboost import CatBoostClassifier, Pool\n",
    "import pandas as pd\n",
    "import numpy as np\n"
   ]
  },
  {
   "cell_type": "code",
   "execution_count": 11,
   "metadata": {},
   "outputs": [],
   "source": [
    "# test_data = pd.read_csv(\"sample.csv\")\n",
    "dataset = test_data\n",
    "\n",
    "# setup\n",
    "K_FOLDS = 3\n",
    "IMPORTANT_FEATURES = 256\n",
    "\n",
    "important_features_full = list(pd.read_csv(\"./sorted_by_importance.csv\", index_col=0)[\"0\"])\n",
    "important_features = important_features_full[:256]\n",
    "labels = list(dataset.Activity.unique())\n",
    "contFeatures = list(set(dataset.columns) - {'Activity'})\n",
    "values = dataset[contFeatures].values\n",
    "col_mean = np.nanmean(values, axis=0)\n",
    "inds = np.where(np.isnan(values))\n",
    "values[inds] = np.take(col_mean, inds[1])\n",
    "dataset[contFeatures] = values\n",
    "\n"
   ]
  },
  {
   "cell_type": "code",
   "execution_count": 12,
   "metadata": {},
   "outputs": [],
   "source": [
    "# test\n",
    "models = [CatBoostClassifier().load_model(\"model_{}_weights\".format(idx)) for idx in range(K_FOLDS)]\n",
    "\n",
    "def test(models, dataset):\n",
    "  labels.sort()\n",
    "  test_X = dataset[important_features].values\n",
    "  test_y = dataset['Activity'].values\n",
    "  predictions = []\n",
    "  for model in models:\n",
    "    preds_proba = model.predict_proba(Pool(test_X, test_y))\n",
    "    predictions.append(preds_proba)\n",
    "  predictions = np.array(predictions)\n",
    "  preds = np.argmax(np.mean(predictions, axis=0), axis=1)\n",
    "  final_test_preds = np.array([labels[pred] for pred in preds])\n",
    "  return final_test_preds\n",
    "\n",
    "predicted = test(models, dataset)"
   ]
  },
  {
   "cell_type": "markdown",
   "metadata": {},
   "source": [
    "### Sprawdzanie dokładności:\n",
    "Predicted - zmienna przechowująca przewidzianą aktywność. Poniższa linijka powinna zwrócić wartość 0-1."
   ]
  },
  {
   "cell_type": "code",
   "execution_count": 13,
   "metadata": {},
   "outputs": [
    {
     "data": {
      "text/plain": "1.0"
     },
     "execution_count": 13,
     "metadata": {},
     "output_type": "execute_result"
    }
   ],
   "source": [
    "np.mean(predicted == test_data.Activity)"
   ]
  },
  {
   "cell_type": "code",
   "execution_count": null,
   "metadata": {},
   "outputs": [],
   "source": []
  }
 ],
 "metadata": {
  "kernelspec": {
   "display_name": "Python 3",
   "language": "python",
   "name": "python3"
  },
  "language_info": {
   "codemirror_mode": {
    "name": "ipython",
    "version": 3
   },
   "file_extension": ".py",
   "mimetype": "text/x-python",
   "name": "python",
   "nbconvert_exporter": "python",
   "pygments_lexer": "ipython3",
   "version": "3.8.3"
  }
 },
 "nbformat": 4,
 "nbformat_minor": 4
}